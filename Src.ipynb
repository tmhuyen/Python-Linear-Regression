{
 "cells": [
  {
   "cell_type": "markdown",
   "metadata": {},
   "source": [
    "# <center>Đồ án 3: Linear Regression</center>"
   ]
  },
  {
   "cell_type": "markdown",
   "metadata": {},
   "source": [
    "# Thông tin sinh viên\n",
    "\n",
    "- Họ và tên: Trần Minh Hải Uyên\n",
    "- MSSV: 21127202\n",
    "- Lớp: 21CLC04"
   ]
  },
  {
   "cell_type": "markdown",
   "metadata": {},
   "source": [
    "# Import"
   ]
  },
  {
   "cell_type": "code",
   "execution_count": 688,
   "metadata": {},
   "outputs": [],
   "source": [
    "import pandas as pd\n",
    "from sklearn.linear_model import LinearRegression\n",
    "from sklearn.metrics import mean_absolute_error\n",
    "from sklearn.model_selection import KFold\n",
    "from IPython.display import display,Math\n",
    "# Import thêm dữ thư viện nếu cần"
   ]
  },
  {
   "cell_type": "markdown",
   "metadata": {},
   "source": [
    "# Đọc dữ liệu"
   ]
  },
  {
   "cell_type": "code",
   "execution_count": 689,
   "metadata": {},
   "outputs": [],
   "source": [
    "# Đọc dữ liệu bằng pandas\n",
    "train = pd.read_csv('train.csv')\n",
    "test = pd.read_csv('test.csv')\n",
    "\n",
    "# Lấy các đặc trưng X và giá trị mục tiêu y cho các tập huấn luyện (train) và kiểm tra (test)\n",
    "X_train = train.iloc[:, :-1]    # Dataframe (chứa 10 đặc trưng huấn luyện)\n",
    "y_train = train.iloc[:, -1]     # Series    (chứa 1 giá trị mục tiêu kiểm tra)\n",
    "\n",
    "X_test = test.iloc[:, :-1]      # Dataframe (chứa 10 đặc trưng kiểm tra)\n",
    "y_test = test.iloc[:, -1]       # Series    (chứa 1 giá trị mục tiêu kiểm tra)\n",
    "\n",
    "# Sinh viên có thể sử dụng các khác nếu cần\n",
    "val_nsplit = 5\n",
    "kf = KFold(n_splits = val_nsplit,shuffle = True,random_state=21127202) #Xáo trộn dữ liệu 1 lần duy nhất và trên toàn bộ đặc trưng\n",
    "model = LinearRegression()"
   ]
  },
  {
   "cell_type": "markdown",
   "metadata": {},
   "source": [
    "# Cài đặt hàm"
   ]
  },
  {
   "cell_type": "code",
   "execution_count": 690,
   "metadata": {},
   "outputs": [],
   "source": [
    "def formula_to_latex(formula, features):\n",
    "    latex_string = f'$$\\\\text{{Salary}} = {formula[0]:.3f}'\n",
    "    for i, feature in enumerate(features):\n",
    "        if formula[i+1] >= 0:\n",
    "            latex_string += f' + {formula[i+1]:.3f} \\\\times {feature}'\n",
    "        else:\n",
    "            latex_string += f' - {-formula[i+1]:.3f} \\\\times {feature}'\n",
    "    latex_string += '$$'\n",
    "    return latex_string\n",
    "\n",
    "def kfold_best_feature(features,Ssort = 0,Sprint = 1):\n",
    "    best_score = float('inf')\n",
    "    x_train = X_train[features]\n",
    "    scores = []\n",
    "    for feature in features:\n",
    "        x_train_feature = x_train[[feature]]\n",
    "        for train_index, test_index in kf.split(x_train_feature):\n",
    "            X_train_kf, X_test_kf = x_train_feature.iloc[train_index], x_train_feature.iloc[test_index]\n",
    "            y_train_kf, y_test_kf = y_train.iloc[train_index], y_train.iloc[test_index]\n",
    "            model.fit(X_train_kf, y_train_kf)\n",
    "            y_pred = model.predict(X_test_kf)\n",
    "            score = mean_absolute_error(y_test_kf, y_pred)\n",
    "            scores.append(score)\n",
    "    # In ra các kết quả cross-validation như yêu cầu\n",
    "    mae = []\n",
    "    for i in range(len(features)):\n",
    "            mae.append((features[i],round(scores[i],3)))\n",
    "    if (Ssort == 1):\n",
    "        mae.sort(key=lambda x: x[1])\n",
    "    for i in range(len(features)):\n",
    "        if mae[i][1] < best_score:\n",
    "            best_score = mae[i][1]\n",
    "            best_feature = mae[i][0]\n",
    "    if (Sprint == 1):\n",
    "        print('STT  ', 'Mô hình đặc trưng        ', 'MAE     ')\n",
    "        for i in range(len(features)):\n",
    "            print(i+1,'   ',mae[i][0],(24-len(mae[i][0]))*' ',mae[i][1])\n",
    "        print('Đặc trưng tốt nhất: ', best_feature)\n",
    "    return best_feature"
   ]
  },
  {
   "cell_type": "markdown",
   "metadata": {},
   "source": [
    "# Yêu cầu 1a: Sử dụng toàn bộ 11 đặc trưng đầu tiên `Gender`, `10percentage`, `12percentage`, `CollegeTier`, `Degree`, `collegeGPA`, `CollegeCityTier`, `English`, `Logical`, `Quant`, `Domain` (2 điểm) "
   ]
  },
  {
   "cell_type": "code",
   "execution_count": 691,
   "metadata": {},
   "outputs": [],
   "source": [
    "# Phần code cho yêu cầu 1a\n",
    "# Chọn các đặc trưng được yêu cầu\n",
    "features = ['Gender', '10percentage', '12percentage', 'CollegeTier', 'Degree', 'collegeGPA', 'CollegeCityTier', 'English', 'Logical', 'Quant', 'Domain']\n",
    "x_train = X_train[features]\n",
    "x_test = X_test[features]\n",
    "\n",
    "# Huấn luyện mô hình hồi quy tuyến tính\n",
    "model.fit(x_train, y_train)\n",
    "\n",
    "# Thể hiện công thức cho mô hình hồi quy\n",
    "formula = []\n",
    "formula.append(round(model.intercept_,3))\n",
    "for i in model.coef_:\n",
    "    formula.append(round(i,3))\n",
    "    "
   ]
  },
  {
   "cell_type": "code",
   "execution_count": 692,
   "metadata": {},
   "outputs": [
    {
     "data": {
      "text/plain": [
       "105052.53"
      ]
     },
     "execution_count": 692,
     "metadata": {},
     "output_type": "execute_result"
    }
   ],
   "source": [
    "# Gọi hàm MAE (tự cài đặt hoặc từ thư viện) trên tập kiểm tra\n",
    "# Dự đoán mức lương cho tập kiểm tra và báo cáo kết quả\n",
    "y_pred = model.predict(x_test)\n",
    "mae = round(mean_absolute_error(y_test, y_pred),3)\n",
    "mae"
   ]
  },
  {
   "cell_type": "markdown",
   "metadata": {},
   "source": [
    "Công thức hồi quy (phần trọng số làm tròn đến 3 chữ số thập phân, ví dụ 0.012345 $\\to$ 0.012)"
   ]
  },
  {
   "cell_type": "code",
   "execution_count": 693,
   "metadata": {},
   "outputs": [
    {
     "data": {
      "text/latex": [
       "$\\displaystyle \\text{Salary} = 49248.090 - 23183.330 \\times Gender + 702.767 \\times 10percentage + 1259.019 \\times 12percentage - 99570.608 \\times CollegeTier + 18369.962 \\times Degree + 1297.532 \\times collegeGPA - 8836.727 \\times CollegeCityTier + 141.760 \\times English + 145.742 \\times Logical + 114.643 \\times Quant + 34955.750 \\times Domain$"
      ],
      "text/plain": [
       "<IPython.core.display.Math object>"
      ]
     },
     "metadata": {},
     "output_type": "display_data"
    }
   ],
   "source": [
    "display(Math(formula_to_latex(formula, features)))"
   ]
  },
  {
   "cell_type": "markdown",
   "metadata": {},
   "source": [
    "# Yêu cầu 1b: Xây dựng mô hình sử dụng duy nhất 1 đặc trưng tính cách với các đặc trưng tính cách gồm `conscientiousness`, `agreeableness`, `extraversion`, `nueroticism`, `openess_to_experience`, tìm mô hình cho kết quả tốt nhất (1 điểm)"
   ]
  },
  {
   "cell_type": "markdown",
   "metadata": {},
   "source": [
    "Lưu ý: khi sử dụng cross-validation, sinh viên cần xáo trộn dữ liệu 1 lần duy nhất và thực hiện trên toàn bộ đặc trưng"
   ]
  },
  {
   "cell_type": "code",
   "execution_count": 694,
   "metadata": {},
   "outputs": [
    {
     "name": "stdout",
     "output_type": "stream",
     "text": [
      "STT   Mô hình đặc trưng         MAE     \n",
      "1     conscientiousness         123510.521\n",
      "2     agreeableness             124850.912\n",
      "3     extraversion              116359.735\n",
      "4     nueroticism               124353.158\n",
      "5     openess_to_experience     132187.799\n",
      "Đặc trưng tốt nhất:  extraversion\n"
     ]
    }
   ],
   "source": [
    "# Phần code cho yêu cầu 1b\n",
    "features = ['conscientiousness', 'agreeableness', 'extraversion', 'nueroticism', 'openess_to_experience']\n",
    "x_train = X_train[features]\n",
    "x_test = X_test[features]\n",
    "best_feature = None\n",
    "# Tìm ra đặc trưng tốt nhất\n",
    "best_feature = kfold_best_feature(features)"
   ]
  },
  {
   "cell_type": "code",
   "execution_count": 695,
   "metadata": {},
   "outputs": [],
   "source": [
    "# Huấn luyện lại mô hình best_personality_feature_model với đặc trưng tốt nhất trên toàn bộ tập huấn luyện\n",
    "best_personality_feature_model = LinearRegression()\n",
    "x_train_best_feature = x_train[[best_feature]]\n",
    "best_personality_feature_model.fit(x_train_best_feature, y_train)\n",
    "\n",
    "# Thể hiện công thức cho mô hình hồi quy\n",
    "formula = []\n",
    "formula.append(round(best_personality_feature_model.intercept_,3))\n",
    "formula.append(round(best_personality_feature_model.coef_[0],3))\n",
    "features = []\n",
    "features.append(best_feature)\n"
   ]
  },
  {
   "cell_type": "code",
   "execution_count": 696,
   "metadata": {},
   "outputs": [
    {
     "data": {
      "text/plain": [
       "118918.709"
      ]
     },
     "execution_count": 696,
     "metadata": {},
     "output_type": "execute_result"
    }
   ],
   "source": [
    "# Gọi hàm MAE (tự cài đặt hoặc từ thư viện) trên tập kiểm tra với mô hình best_personality_feature_model\n",
    "x_test_best_feature = x_test[[best_feature]]\n",
    "y_pred = best_personality_feature_model.predict(x_test_best_feature)\n",
    "mae = round(mean_absolute_error(y_test, y_pred),3)\n",
    "mae"
   ]
  },
  {
   "cell_type": "markdown",
   "metadata": {},
   "source": [
    "Công thức hồi quy (phần trọng số làm tròn đến 3 chữ số thập phân, ví dụ 0.012345 $\\to$ 0.012)\n"
   ]
  },
  {
   "cell_type": "code",
   "execution_count": 697,
   "metadata": {},
   "outputs": [
    {
     "data": {
      "text/latex": [
       "$\\displaystyle \\text{Salary} = 306887.222 - 608.965 \\times extraversion$"
      ],
      "text/plain": [
       "<IPython.core.display.Math object>"
      ]
     },
     "metadata": {},
     "output_type": "display_data"
    }
   ],
   "source": [
    "display(Math(formula_to_latex(formula, features)))"
   ]
  },
  {
   "cell_type": "markdown",
   "metadata": {},
   "source": [
    "# Yêu cầu 1c: Xây dựng mô hình sử dụng duy nhất 1 đặc trưng `English`, `Logical`, `Quant`, tìm mô hình cho kết quả tốt nhất (1 điểm)"
   ]
  },
  {
   "cell_type": "markdown",
   "metadata": {},
   "source": [
    "Lưu ý: khi sử dụng cross-validation, sinh viên cần xáo trộn dữ liệu 1 lần duy nhất và thực hiện trên toàn bộ đặc trưng"
   ]
  },
  {
   "cell_type": "code",
   "execution_count": 698,
   "metadata": {},
   "outputs": [
    {
     "name": "stdout",
     "output_type": "stream",
     "text": [
      "STT   Mô hình đặc trưng         MAE     \n",
      "1     English                   121477.087\n",
      "2     Logical                   120072.695\n",
      "3     Quant                     114351.776\n",
      "Đặc trưng tốt nhất:  Quant\n"
     ]
    }
   ],
   "source": [
    "# Phần code cho yêu cầu 1c\n",
    "features = ['English', 'Logical', 'Quant']\n",
    "best_feature = None\n",
    "x_train = X_train[features]\n",
    "x_test = X_test[features]\n",
    "# Tìm ra đặc trưng tốt nhất\n",
    "best_feature = kfold_best_feature(features)"
   ]
  },
  {
   "cell_type": "code",
   "execution_count": 699,
   "metadata": {},
   "outputs": [],
   "source": [
    "\n",
    "# Huấn luyện lại mô hình best_skill_feature_model với đặc trưng tốt nhất trên toàn bộ tập huấn luyện\n",
    "best_skill_feature_model = LinearRegression()\n",
    "x_train_best_feature = x_train[[best_feature]]\n",
    "best_skill_feature_model.fit(x_train_best_feature, y_train)\n",
    "\n",
    "# Thể hiện công thức cho mô hình hồi quy\n",
    "formula = []\n",
    "formula.append(round(best_skill_feature_model.intercept_,3))\n",
    "formula.append(round(best_skill_feature_model.coef_[0],3))\n",
    "features = []\n",
    "features.append(best_feature)"
   ]
  },
  {
   "cell_type": "code",
   "execution_count": 700,
   "metadata": {},
   "outputs": [
    {
     "data": {
      "text/plain": [
       "108814.06"
      ]
     },
     "execution_count": 700,
     "metadata": {},
     "output_type": "execute_result"
    }
   ],
   "source": [
    "# Gọi hàm MAE (tự cài đặt hoặc từ thư viện) trên tập kiểm tra với mô hình best_skill_feature_model\n",
    "x_test_best_feature = x_test[[best_feature]]\n",
    "y_pred = best_skill_feature_model.predict(x_test_best_feature)\n",
    "mae = round(mean_absolute_error(y_test, y_pred),3)\n",
    "mae"
   ]
  },
  {
   "cell_type": "markdown",
   "metadata": {},
   "source": [
    "Công thức hồi quy (phần trọng số làm tròn đến 3 chữ số thập phân, ví dụ 0.012345 $\\to$ 0.012)\n"
   ]
  },
  {
   "cell_type": "code",
   "execution_count": 701,
   "metadata": {},
   "outputs": [
    {
     "data": {
      "text/latex": [
       "$\\displaystyle \\text{Salary} = 117759.729 + 368.852 \\times Quant$"
      ],
      "text/plain": [
       "<IPython.core.display.Math object>"
      ]
     },
     "metadata": {},
     "output_type": "display_data"
    }
   ],
   "source": [
    "display(Math(formula_to_latex(formula, features)))"
   ]
  },
  {
   "cell_type": "markdown",
   "metadata": {},
   "source": [
    "# Yêu cầu 1d: Sinh viên tự xây dựng mô hình, tìm mô hình cho kết quả tốt nhất (3 điểm)"
   ]
  },
  {
   "cell_type": "markdown",
   "metadata": {},
   "source": [
    "Lưu ý: khi sử dụng cross-validation, sinh viên cần xáo trộn dữ liệu 1 lần duy nhất và thực hiện trên toàn bộ $m$ mô hình mà sinh viên thiết kế"
   ]
  },
  {
   "cell_type": "markdown",
   "metadata": {},
   "source": [
    "## Tìm mô hình"
   ]
  },
  {
   "cell_type": "markdown",
   "metadata": {},
   "source": [
    "- Tìm và so sánh các giá trị MAE trong 23 đặc trưng giải thích"
   ]
  },
  {
   "cell_type": "code",
   "execution_count": 702,
   "metadata": {},
   "outputs": [
    {
     "name": "stdout",
     "output_type": "stream",
     "text": [
      "STT   Mô hình đặc trưng         MAE     \n",
      "1     English                   111614.184\n",
      "2     ElectronicsAndSemicon     111980.392\n",
      "3     openess_to_experience     115880.773\n",
      "4     12percentage              116430.138\n",
      "5     Domain                    117528.0\n",
      "6     collegeGPA                117579.273\n",
      "7     Logical                   117794.226\n",
      "8     CivilEngg                 118745.751\n",
      "9     conscientiousness         120499.178\n",
      "10     ComputerScience           121085.707\n",
      "11     CollegeCityTier           121128.738\n",
      "12     extraversion              122166.771\n",
      "13     CollegeTier               122214.594\n",
      "14     Gender                    122363.205\n",
      "15     ComputerProgramming       122508.962\n",
      "16     TelecomEngg               122544.739\n",
      "17     ElectricalEngg            123067.867\n",
      "18     nueroticism               124956.765\n",
      "19     10percentage              124958.262\n",
      "20     Quant                     126563.519\n",
      "21     MechanicalEngg            126914.259\n",
      "22     agreeableness             131757.321\n",
      "23     Degree                    132649.61\n",
      "Đặc trưng tốt nhất:  English\n"
     ]
    },
    {
     "data": {
      "text/plain": [
       "'English'"
      ]
     },
     "execution_count": 702,
     "metadata": {},
     "output_type": "execute_result"
    }
   ],
   "source": [
    "kfold_best_feature(['Gender', '10percentage', '12percentage', 'CollegeTier', 'Degree', 'collegeGPA', 'CollegeCityTier', 'English', 'Logical', 'Quant', 'Domain', 'ComputerProgramming', 'ElectronicsAndSemicon', 'ComputerScience', 'MechanicalEngg', 'ElectricalEngg', 'TelecomEngg', 'CivilEngg', 'conscientiousness', 'agreeableness', 'extraversion', 'nueroticism', 'openess_to_experience'],1)"
   ]
  },
  {
   "cell_type": "markdown",
   "metadata": {},
   "source": [
    "### Mô hình 01 \n",
    "Từ kết quả trên, chọn ra các đặc trưng có MAE < `120000`. Ta có mô hình 01 gồm các thuộc tính sau: `English`, `ElectronicsAndSemicon`, `openess_to_experience`, `12percentage`, `Domain`, `collegeGPA`, `Logical`, `CivilEngg`"
   ]
  },
  {
   "cell_type": "code",
   "execution_count": 703,
   "metadata": {},
   "outputs": [],
   "source": [
    "def Module01():\n",
    "    features = []\n",
    "    features = ['English', 'ElectronicsAndSemicon', 'openess_to_experience', '12percentage', \n",
    "                'Domain', 'collegeGPA', 'Logical', 'CivilEngg']\n",
    "    return features"
   ]
  },
  {
   "cell_type": "markdown",
   "metadata": {},
   "source": [
    "### Mô hình 02\n",
    "Dựa trên các điểm số trong bài thi AMCAT, ta chia thành 3 nhóm như sau:\n",
    "- Nhóm phần thi khả năng gồm các đặc trưng `English`, `Logical`, `Quant`\n",
    "- Nhóm phần thi về lập trình, máy tính và kỹ thuật gồm các đặc trưng `Domain`, `ComputerProgramming`, `ElectronicsAndSemicon`, `ComputerScience`, `MechanicalEngg`, `ElectricalEngg`, `TelecomEngg`, `CivilEngg`\n",
    "- Nhóm phần kiểm tra tính cách `conscientiousness`, `agreeableness`, `extraversion`, `nueroticism`, `openess_to_experience`\n",
    "\n",
    "Từ mỗi nhóm, ta lấy một đặc trưng tốt nhất để tạo thành mô hình 02"
   ]
  },
  {
   "cell_type": "code",
   "execution_count": 704,
   "metadata": {},
   "outputs": [],
   "source": [
    "def Module02():\n",
    "    features = []\n",
    "    features.append(kfold_best_feature(['English', 'Logical', 'Quant'],0,0))\n",
    "    features.append(kfold_best_feature(['Domain', 'ComputerProgramming', 'ElectronicsAndSemicon', 'ComputerScience',\n",
    "                                        'MechanicalEngg', 'ElectricalEngg', 'TelecomEngg', 'CivilEngg'],0,0))\n",
    "    features.append(kfold_best_feature(['conscientiousness', 'agreeableness', 'extraversion',\n",
    "                                        'nueroticism', 'openess_to_experience'],0,0))\n",
    "    return features"
   ]
  },
  {
   "cell_type": "markdown",
   "metadata": {},
   "source": [
    "### Mô hình 03\n",
    "Kết hợp và chia nhóm 23 đặc trưng, ta có được các nhóm đặc trưng sau:\n",
    "- Nhóm đặc trưng giới tính gồm đặc trưng `Gender`\n",
    "- Nhóm đặc trưng quá trình trước Đại học gồm các đặc trưng `10percentage`, `12percentage`\n",
    "- Nhóm đặc trưng quá trình Đại học gồm các đặc trưng `CollegeTier`, `Degree`, `collegeGPA`, `CollegeCityTier`\n",
    "- 3 nhóm đặc trưng từ bài thi AMCAT giống với mô hình 02\n",
    "\n",
    "Từ mỗi nhóm, ta lấy một đặc trưng tốt nhất để tạo thành mô hình 03"
   ]
  },
  {
   "cell_type": "code",
   "execution_count": 705,
   "metadata": {},
   "outputs": [],
   "source": [
    "def Module03():\n",
    "    features = []\n",
    "    features.append('Gender')\n",
    "    features.append(kfold_best_feature(['10percentage', '12percentage'],0,0))\n",
    "    features.append(kfold_best_feature(['CollegeTier', 'Degree','collegeGPA', 'CollegeCityTier'],0,0))\n",
    "    features.append(kfold_best_feature(['English', 'Logical', 'Quant'],0,0))\n",
    "    features.append(kfold_best_feature(['Domain', 'ComputerProgramming', 'ElectronicsAndSemicon', 'ComputerScience', \n",
    "                                        'MechanicalEngg', 'ElectricalEngg', 'TelecomEngg', 'CivilEngg'],0,0))\n",
    "    features.append(kfold_best_feature(['conscientiousness', 'agreeableness', 'extraversion', \n",
    "                                        'nueroticism', 'openess_to_experience'],0,0))\n",
    "    return features"
   ]
  },
  {
   "cell_type": "markdown",
   "metadata": {},
   "source": [
    "## Thử nghiệm, so sánh các mô hình"
   ]
  },
  {
   "cell_type": "code",
   "execution_count": 706,
   "metadata": {},
   "outputs": [
    {
     "name": "stdout",
     "output_type": "stream",
     "text": [
      "Mô hình thứ  1 ['English', 'ElectronicsAndSemicon', 'openess_to_experience', '12percentage', 'Domain', 'collegeGPA', 'Logical', 'CivilEngg']\n",
      "Mô hình thứ  2 ['Quant', 'CivilEngg', 'extraversion']\n",
      "Mô hình thứ  3 ['Gender', '10percentage', 'collegeGPA', 'Quant', 'CivilEngg', 'extraversion']\n",
      "STT      Mô hình       MAE      \n",
      "1 Mô hình  1            114894.94915798395\n",
      "2 Mô hình  2            117162.71400368749\n",
      "3 Mô hình  3            113864.05401289689\n"
     ]
    },
    {
     "data": {
      "text/plain": [
       "['Gender', '10percentage', 'collegeGPA', 'Quant', 'CivilEngg', 'extraversion']"
      ]
     },
     "execution_count": 706,
     "metadata": {},
     "output_type": "execute_result"
    }
   ],
   "source": [
    "# Phần code cho yêu cầu 1d\n",
    "module1 = Module01()\n",
    "module2 = Module02()\n",
    "module3 = Module03()\n",
    "models = [module1, module2, module3]\n",
    "avg_mae = []\n",
    "# Tìm ra mô hình tốt nhất (tự thiết kế bởi sinh viên)\n",
    "for module in models:\n",
    "    total_mae = 0.0\n",
    "    for train_index, val_index in kf.split(X_train):\n",
    "        X_fold_train, X_fold_val = X_train.iloc[train_index], X_train.iloc[val_index]\n",
    "        y_fold_train, y_fold_val = y_train.iloc[train_index], y_train.iloc[val_index]\n",
    "\n",
    "        selected_features = module\n",
    "        num_features = len(selected_features)\n",
    "        # Chọn các đặc trưng được định nghĩa bởi mô hình\n",
    "        X_fold_train_selected = X_fold_train[selected_features]\n",
    "        X_fold_val_selected = X_fold_val[selected_features]\n",
    "\n",
    "        # Huấn luyện mô hình Linear Regression\n",
    "        model = LinearRegression()\n",
    "        model.fit(X_fold_train_selected, y_fold_train)\n",
    "\n",
    "        # Đưa ra dự đoán trên tập validation\n",
    "        y_pred_val = model.predict(X_fold_val_selected)\n",
    "\n",
    "        # Tính toán mean absolute error\n",
    "        fold_mae = mean_absolute_error(y_fold_val, y_pred_val)\n",
    "        total_mae += fold_mae\n",
    "\n",
    "    average_mae = total_mae / val_nsplit\n",
    "    avg_mae.append(average_mae)\n",
    "\n",
    "\n",
    "# In ra các kết quả cross-validation như yêu cầu\n",
    "count = 0\n",
    "best_score = float('inf')\n",
    "for i in models:\n",
    "    count+= 1\n",
    "    print('Mô hình thứ ', count, i)\n",
    "print ('STT     ','Mô hình      ','MAE      ')\n",
    "for i in range(3):\n",
    "    print(i+1,'Mô hình ',i+1,'          ',avg_mae[i])\n",
    "    if avg_mae[i] < best_score:\n",
    "        best_score = avg_mae[i]\n",
    "        my_best_feature = models[i]\n",
    "\n",
    "my_best_feature"
   ]
  },
  {
   "cell_type": "code",
   "execution_count": 707,
   "metadata": {},
   "outputs": [],
   "source": [
    "#Huấn luyện lại mô hình my_best_model trên toàn bộ tập huấn luyện\n",
    "x_train = X_train[my_best_feature]\n",
    "x_test = X_test[my_best_feature]\n",
    "\n",
    "# Huấn luyện mô hình hồi quy tuyến tính\n",
    "my_best_model = LinearRegression()\n",
    "my_best_model.fit(x_train, y_train)\n",
    "\n",
    "# Thể hiện công thức cho mô hình hồi quy\n",
    "formula = []\n",
    "formula.append(round(my_best_model.intercept_,3))\n",
    "for i in model.coef_:\n",
    "    formula.append(round(i,3))"
   ]
  },
  {
   "cell_type": "code",
   "execution_count": 708,
   "metadata": {},
   "outputs": [
    {
     "data": {
      "text/plain": [
       "104911.133"
      ]
     },
     "execution_count": 708,
     "metadata": {},
     "output_type": "execute_result"
    }
   ],
   "source": [
    "# Gọi hàm MAE (tự cài đặt hoặc từ thư viện) trên tập kiểm tra với mô hình my_best_model\n",
    "y_pred = my_best_model.predict(x_test)\n",
    "mae = round(mean_absolute_error(y_test, y_pred),3)\n",
    "mae"
   ]
  },
  {
   "cell_type": "markdown",
   "metadata": {},
   "source": [
    "Công thức hồi quy (phần trọng số làm tròn đến 3 chữ số thập phân, ví dụ 0.012345 $\\to$ 0.012)\n"
   ]
  },
  {
   "cell_type": "code",
   "execution_count": 709,
   "metadata": {},
   "outputs": [
    {
     "data": {
      "text/latex": [
       "$\\displaystyle \\text{Salary} = -96889.805 - 24645.431 \\times Gender + 2360.409 \\times 10percentage + 1291.655 \\times collegeGPA + 262.038 \\times Quant + 57.235 \\times CivilEngg + 4530.107 \\times extraversion$"
      ],
      "text/plain": [
       "<IPython.core.display.Math object>"
      ]
     },
     "metadata": {},
     "output_type": "display_data"
    }
   ],
   "source": [
    "display(Math(formula_to_latex(formula, my_best_feature)))"
   ]
  }
 ],
 "metadata": {
  "kernelspec": {
   "display_name": "Python 3 (ipykernel)",
   "language": "python",
   "name": "python3"
  },
  "language_info": {
   "codemirror_mode": {
    "name": "ipython",
    "version": 3
   },
   "file_extension": ".py",
   "mimetype": "text/x-python",
   "name": "python",
   "nbconvert_exporter": "python",
   "pygments_lexer": "ipython3",
   "version": "3.10.9"
  },
  "vscode": {
   "interpreter": {
    "hash": "15af99fd1a1a3f0a3416ea421564e792a8676a13670c2eed127d89ab0518a27b"
   }
  }
 },
 "nbformat": 4,
 "nbformat_minor": 2
}
